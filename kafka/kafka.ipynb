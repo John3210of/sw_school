{
 "cells": [
  {
   "cell_type": "code",
   "execution_count": null,
   "metadata": {},
   "outputs": [],
   "source": [
    "from producer import MessageProducer\n",
    "\n",
    "# 브로커와 토픽명을 지정\n",
    "broker = [\"localhost:9092\"]\n",
    "topic = \"exam-topic\"\n",
    "pd = MessageProducer(broker, topic)\n",
    "#전송할 메시지 생성\n",
    "msg = {\"name\": \"John\", \"age\": 30}\n",
    "res = pd.send_message(msg)\n",
    "print(res)"
   ]
  },
  {
   "cell_type": "code",
   "execution_count": null,
   "metadata": {},
   "outputs": [],
   "source": [
    "from consumer import MessageConsumer\n",
    "\n",
    "# 브로커와 토픽명을 지정한다.\n",
    "broker = [\"localhost:9092\"]\n",
    "topic = \"exam-topic\"\n",
    "cs = MessageConsumer(broker, topic)\n",
    "cs.receive_message()"
   ]
  }
 ],
 "metadata": {
  "kernelspec": {
   "display_name": "Python 3",
   "language": "python",
   "name": "python3"
  },
  "language_info": {
   "codemirror_mode": {
    "name": "ipython",
    "version": 3
   },
   "file_extension": ".py",
   "mimetype": "text/x-python",
   "name": "python",
   "nbconvert_exporter": "python",
   "pygments_lexer": "ipython3",
   "version": "3.11.9"
  }
 },
 "nbformat": 4,
 "nbformat_minor": 2
}
