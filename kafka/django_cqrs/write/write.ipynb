{
 "cells": [
  {
   "cell_type": "code",
   "execution_count": 6,
   "metadata": {},
   "outputs": [
    {
     "name": "stdout",
     "output_type": "stream",
     "text": [
      "Book successfully added!\n",
      "Response data: {'bid': 16, 'title': 'The Great Gatsby', 'author': 'F. Scott Fitzgerald', 'category': 'Fiction', 'pages': 180, 'price': 15000, 'published_date': '1925-04-10', 'description': 'A novel set in the 1920s.'}\n"
     ]
    }
   ],
   "source": [
    "import requests\n",
    "import json\n",
    "# API 엔드포인트 URL\n",
    "url = 'http://127.0.0.1:8000/cqrs/books/'\n",
    "# 추가할 Book 데이터\n",
    "book_data = {\n",
    "    \"title\": \"The Great Gatsby\",\n",
    "    \"author\": \"F. Scott Fitzgerald\",\n",
    "    \"category\": \"Fiction\",\n",
    "    \"pages\": 180,\n",
    "    \"price\": 15000,\n",
    "    \"published_date\": \"1925-04-10\",\n",
    "    \"description\": \"A novel set in the 1920s.\"\n",
    "}\n",
    "response = requests.post(url, data=json.dumps(book_data), headers={'Content-Type': 'application/json'})\n",
    "if response.status_code == 201:\n",
    "    print(\"Book successfully added!\")\n",
    "    print(\"Response data:\", response.json())\n",
    "else:\n",
    "    print(f\"Failed to add book. Status code: {response.status_code}\")\n",
    "    print(\"Response content:\", response.content)\n"
   ]
  }
 ],
 "metadata": {
  "kernelspec": {
   "display_name": "Python 3",
   "language": "python",
   "name": "python3"
  },
  "language_info": {
   "codemirror_mode": {
    "name": "ipython",
    "version": 3
   },
   "file_extension": ".py",
   "mimetype": "text/x-python",
   "name": "python",
   "nbconvert_exporter": "python",
   "pygments_lexer": "ipython3",
   "version": "3.11.9"
  }
 },
 "nbformat": 4,
 "nbformat_minor": 2
}
