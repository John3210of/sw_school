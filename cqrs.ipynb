{
 "cells": [
  {
   "cell_type": "code",
   "execution_count": null,
   "metadata": {},
   "outputs": [],
   "source": [
    "a=[1,2,3]\n",
    "a.__iter__\n",
    "a='123'\n",
    "a.__iter__\n",
    "a=3\n",
    "a.__iter__"
   ]
  },
  {
   "cell_type": "code",
   "execution_count": null,
   "metadata": {},
   "outputs": [],
   "source": [
    "import os\n",
    "os.getcwd()"
   ]
  },
  {
   "cell_type": "code",
   "execution_count": null,
   "metadata": {},
   "outputs": [],
   "source": [
    "a=[1,2,3]\n",
    "for i,v in enumerate(a):\n",
    "    print(i,v)"
   ]
  },
  {
   "cell_type": "code",
   "execution_count": null,
   "metadata": {},
   "outputs": [],
   "source": [
    "def asdf(**kargs):\n",
    "    for k,v in kargs.items():\n",
    "        print(k,v)\n",
    "        \n",
    "def asdfg(*args):\n",
    "    for arg in args:\n",
    "        print(arg)\n",
    "\n",
    "print(asdfg.__code__)"
   ]
  },
  {
   "cell_type": "code",
   "execution_count": null,
   "metadata": {},
   "outputs": [],
   "source": [
    "def log_message(level, *args, **kwargs):\n",
    "    print(f\"[{level.upper()}]\", *args)\n",
    "    if 'timestamp' in kwargs:\n",
    "        print(f\"Timestamp: {kwargs['timestamp']}\")\n",
    "\n",
    "log_message('info', 'User logged in', timestamp='2024-09-12')"
   ]
  },
  {
   "cell_type": "code",
   "execution_count": null,
   "metadata": {},
   "outputs": [],
   "source": [
    "class Animal:\n",
    "    def __init__(self):\n",
    "        self.stat=9999\n",
    "    def info(self):\n",
    "        return self.stat\n",
    "\n",
    "class Human(Animal):\n",
    "    def info(self):\n",
    "        self.stat=super().info()+1\n",
    "        return self.stat\n",
    "    def info_2(self):\n",
    "        self.stat=Animal.info()+3\n",
    "        return self.stat\n",
    "\n",
    "ani=Animal()\n",
    "hu=Human()\n",
    "print(ani.info())\n",
    "print(hu.info())\n",
    "print(hu.info_2())"
   ]
  },
  {
   "cell_type": "code",
   "execution_count": 15,
   "metadata": {},
   "outputs": [
    {
     "name": "stdout",
     "output_type": "stream",
     "text": [
      "[0, 3, 6, 9, 12, 15, 18, 21, 24, 27, 30, 33, 36, 39, 42, 45, 48, 51, 54, 57, 60, 63, 66, 69, 72, 75, 78, 81, 84, 87, 90, 93, 96, 99, 102, 105, 108, 111, 114, 117, 120, 123, 126, 129, 132, 135, 138, 141, 144, 147, 150, 153, 156, 159, 162, 165, 168, 171, 174, 177, 180, 183, 186, 189, 192, 195, 198, 201, 204, 207, 210, 213, 216, 219, 222, 225, 228, 231, 234, 237, 240, 243, 246, 249, 252, 255, 258, 261, 264, 267, 270, 273, 276, 279, 282, 285, 288, 291, 294, 297, 300, 303, 306, 309, 312, 315, 318, 321, 324, 327, 330, 333, 336, 339, 342, 345, 348, 351, 354, 357, 360, 363, 366, 369, 372, 375, 378, 381, 384, 387, 390, 393, 396, 399, 402, 405, 408, 411, 414, 417, 420, 423, 426, 429, 432, 435, 438, 441, 444, 447, 450, 453, 456, 459, 462, 465, 468, 471, 474, 477, 480, 483, 486, 489, 492, 495, 498, 501, 504, 507, 510, 513, 516, 519, 522, 525, 528, 531, 534, 537, 540, 543, 546, 549, 552, 555, 558, 561, 564, 567, 570, 573, 576, 579, 582, 585, 588, 591, 594, 597, 600, 603, 606, 609, 612, 615, 618, 621, 624, 627, 630, 633, 636, 639, 642, 645, 648, 651, 654, 657, 660, 663, 666, 669, 672, 675, 678, 681, 684, 687, 690, 693, 696, 699, 702, 705, 708, 711, 714, 717, 720, 723, 726, 729, 732, 735, 738, 741, 744, 747, 750, 753, 756, 759, 762, 765, 768, 771, 774, 777, 780, 783, 786, 789, 792, 795, 798, 801, 804, 807, 810, 813, 816, 819, 822, 825, 828, 831, 834, 837, 840, 843, 846, 849, 852, 855, 858, 861, 864, 867, 870, 873, 876, 879, 882, 885, 888, 891, 894, 897, 900, 903, 906, 909, 912, 915, 918, 921, 924, 927, 930, 933, 936, 939, 942, 945, 948, 951, 954, 957, 960, 963, 966, 969, 972, 975, 978, 981, 984, 987, 990, 993, 996, 999]\n"
     ]
    }
   ],
   "source": [
    "a=[i for i in range(0,1000)]\n",
    "b=filter(lambda x:x%3==0,a)\n",
    "print(list(b))"
   ]
  },
  {
   "cell_type": "code",
   "execution_count": 3,
   "metadata": {},
   "outputs": [
    {
     "name": "stdout",
     "output_type": "stream",
     "text": [
      "10\n",
      "None\n"
     ]
    }
   ],
   "source": [
    "print(asdf())\n",
    "def asdf():\n",
    "    print(a)\n",
    "a=10"
   ]
  },
  {
   "cell_type": "code",
   "execution_count": 7,
   "metadata": {},
   "outputs": [
    {
     "name": "stdout",
     "output_type": "stream",
     "text": [
      "running time is 0:00:00.000804\n"
     ]
    }
   ],
   "source": [
    "# 함수 호출할때마다 얼마나 걸렸는지 아는 데코레이터\n",
    "import datetime\n",
    "def time_logging(func):\n",
    "    def inner():\n",
    "        before = datetime.datetime.now()\n",
    "        func()\n",
    "        after = datetime.datetime.now()\n",
    "        print(f'running time is {after-before}')\n",
    "        return\n",
    "    return inner\n",
    "\n",
    "@time_logging\n",
    "def test_func():\n",
    "    lst=[i for i in range(100000)]\n",
    "    return lst\n",
    "\n",
    "test_func()\n"
   ]
  },
  {
   "cell_type": "code",
   "execution_count": 2,
   "metadata": {},
   "outputs": [
    {
     "name": "stdout",
     "output_type": "stream",
     "text": [
      "name(age=22, address='34')\n"
     ]
    }
   ],
   "source": [
    "from collections import namedtuple\n",
    "\n",
    "a=namedtuple(\"name\",\"age address\")\n",
    "b=a(22,\"34\")\n",
    "print(b)"
   ]
  }
 ],
 "metadata": {
  "kernelspec": {
   "display_name": "Python 3",
   "language": "python",
   "name": "python3"
  },
  "language_info": {
   "codemirror_mode": {
    "name": "ipython",
    "version": 3
   },
   "file_extension": ".py",
   "mimetype": "text/x-python",
   "name": "python",
   "nbconvert_exporter": "python",
   "pygments_lexer": "ipython3",
   "version": "3.11.9"
  }
 },
 "nbformat": 4,
 "nbformat_minor": 2
}
